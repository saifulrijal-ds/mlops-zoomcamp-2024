{
 "cells": [
  {
   "cell_type": "code",
   "execution_count": 1,
   "metadata": {},
   "outputs": [],
   "source": [
    "import pickle\n",
    "import numpy as np\n",
    "import pandas as pd\n",
    "import polars as pl"
   ]
  },
  {
   "cell_type": "code",
   "execution_count": 2,
   "metadata": {},
   "outputs": [],
   "source": [
    "year = 2023\n",
    "month = 3\n",
    "taxi_type = 'yellow'\n",
    "\n",
    "input_file = f\"https://d37ci6vzurychx.cloudfront.net/trip-data/{taxi_type}_tripdata_{year:04d}-{month:02d}.parquet\"\n",
    "output_file = f\"../outputs/{taxi_type}_tripdata_{year:04d}-{month:02d}_prediction.parquet\"\n",
    "\n",
    "saved_model = \"../models/model.bin\" "
   ]
  },
  {
   "cell_type": "code",
   "execution_count": 3,
   "metadata": {},
   "outputs": [],
   "source": [
    "# Load the model\n",
    "def load_model(saved_model):\n",
    "    with open(saved_model, 'rb') as f_in:\n",
    "        dv, model = pickle.load(f_in)\n",
    "    return dv, model\n"
   ]
  },
  {
   "cell_type": "code",
   "execution_count": 4,
   "metadata": {},
   "outputs": [],
   "source": [
    "def read_dataframe(filename, categorical):\n",
    "    df = pl.scan_parquet(filename)\n",
    "\n",
    "    df = df.with_columns(\n",
    "        duration=(pl.col('tpep_dropoff_datetime') - pl.col('tpep_pickup_datetime')).dt.total_seconds() / 60\n",
    "    ).filter(\n",
    "        (pl.col('duration') >= 1) & (pl.col('duration') <= 60)\n",
    "    ).with_columns(\n",
    "        pl.col('PULocationID').fill_null(value=-1).cast(pl.Int16).cast(pl.Utf8).alias('PULocationID'),\n",
    "        pl.col('DOLocationID').fill_null(value=-1).cast(pl.Int16).cast(pl.Utf8).alias('DOLocationID')\n",
    "    )\n",
    "\n",
    "    df = df.select(categorical+['duration'])\n",
    "\n",
    "    return df.collect().to_pandas()\n"
   ]
  },
  {
   "cell_type": "code",
   "execution_count": 5,
   "metadata": {},
   "outputs": [],
   "source": [
    "def prepare_dictionaries(df, categorical):\n",
    "    return df[categorical].to_dict(orient='records')\n"
   ]
  },
  {
   "cell_type": "code",
   "execution_count": 6,
   "metadata": {},
   "outputs": [],
   "source": [
    "def apply_model(saved_model, input_file, output_file):\n",
    "    categorical = ['PULocationID', 'DOLocationID']\n",
    "    df = read_dataframe(input_file, categorical)\n",
    "    dicts = prepare_dictionaries(df, categorical)\n",
    "\n",
    "    dv, model = load_model(saved_model)\n",
    "\n",
    "    X = dv.transform(dicts)\n",
    "    y_pred = model.predict(X)\n",
    "\n",
    "    df['ride_id'] = f'{year:04d}/{month:02d}_' + df.index.astype('str')\n",
    "    \n",
    "    df_result = pd.DataFrame()\n",
    "    df_result['ride_id'] = df['ride_id']\n",
    "    df_result['predicted_duration'] = y_pred\n",
    "\n",
    "    df_result.to_parquet(\n",
    "        output_file,\n",
    "        engine='pyarrow',\n",
    "        compression=None,\n",
    "        index=False\n",
    "    )\n"
   ]
  },
  {
   "cell_type": "code",
   "execution_count": 7,
   "metadata": {},
   "outputs": [],
   "source": [
    "apply_model(saved_model, input_file, output_file)"
   ]
  },
  {
   "cell_type": "code",
   "execution_count": null,
   "metadata": {},
   "outputs": [],
   "source": []
  }
 ],
 "metadata": {
  "kernelspec": {
   "display_name": "04-deployment-1QsPncgz",
   "language": "python",
   "name": "python3"
  },
  "language_info": {
   "codemirror_mode": {
    "name": "ipython",
    "version": 3
   },
   "file_extension": ".py",
   "mimetype": "text/x-python",
   "name": "python",
   "nbconvert_exporter": "python",
   "pygments_lexer": "ipython3",
   "version": "3.11.9"
  }
 },
 "nbformat": 4,
 "nbformat_minor": 2
}
