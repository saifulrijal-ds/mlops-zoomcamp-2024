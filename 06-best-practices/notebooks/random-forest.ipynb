{
 "cells": [
  {
   "cell_type": "code",
   "execution_count": 1,
   "metadata": {},
   "outputs": [],
   "source": [
    "import os\n",
    "\n",
    "os.chdir('/home/ubuntu/mlops_zoomcamp/mlops-zoomcamp-2024/06-best-practices')"
   ]
  },
  {
   "cell_type": "code",
   "execution_count": 2,
   "metadata": {},
   "outputs": [],
   "source": [
    "import pickle\n",
    "from tqdm import tqdm\n",
    "import pandas as pd\n",
    "import polars as pl\n",
    "\n",
    "from sklearn.feature_extraction import DictVectorizer\n",
    "from sklearn.ensemble import RandomForestRegressor\n",
    "from sklearn.ensemble import HistGradientBoostingRegressor\n",
    "from sklearn.pipeline import make_pipeline\n",
    "from sklearn.metrics import root_mean_squared_error"
   ]
  },
  {
   "cell_type": "code",
   "execution_count": 4,
   "metadata": {},
   "outputs": [
    {
     "name": "stderr",
     "output_type": "stream",
     "text": [
      "Intel(R) Extension for Scikit-learn* enabled (https://github.com/intel/scikit-learn-intelex)\n"
     ]
    }
   ],
   "source": [
    "from sklearnex import patch_sklearn\n",
    "patch_sklearn()"
   ]
  },
  {
   "cell_type": "code",
   "execution_count": 5,
   "metadata": {},
   "outputs": [
    {
     "data": {
      "text/plain": [
       "<Experiment: artifact_location='s3://saiful-mflow-artifact-store/1', creation_time=1719744296684, experiment_id='1', last_update_time=1719744296684, lifecycle_stage='active', name='yellow-taxi-duration', tags={}>"
      ]
     },
     "execution_count": 5,
     "metadata": {},
     "output_type": "execute_result"
    }
   ],
   "source": [
    "import mlflow\n",
    "import mlflow.sklearn\n",
    "\n",
    "mlflow.set_tracking_uri(\"http://127.0.0.1:5000\")\n",
    "mlflow.set_experiment(\"yellow-taxi-duration\")"
   ]
  },
  {
   "cell_type": "code",
   "execution_count": 4,
   "metadata": {},
   "outputs": [
    {
     "name": "stderr",
     "output_type": "stream",
     "text": [
      "yellow_tripdata_2024-01.parquet: 100%|██████████| 49961641/49961641 [05:02<00:00, 164974.12it/s, save to data/yellow_tripdata_2024-01.parquet]\n",
      "yellow_tripdata_2024-02.parquet: 100%|██████████| 50349284/50349284 [05:06<00:00, 164373.61it/s, save to data/yellow_tripdata_2024-02.parquet]\n",
      "yellow_tripdata_2024-03.parquet: 100%|██████████| 60078280/60078280 [06:05<00:00, 164262.45it/s, save to data/yellow_tripdata_2024-03.parquet]\n"
     ]
    }
   ],
   "source": [
    "import requests\n",
    "\n",
    "year = 2024\n",
    "start_month = 1\n",
    "end_month = 3\n",
    "\n",
    "for month in range(start_month, end_month + 1):\n",
    "    url = f\"https://d37ci6vzurychx.cloudfront.net/trip-data/yellow_tripdata_{year:04d}-{month:02d}.parquet\"\n",
    "    response = requests.get(url, stream=True)\n",
    "    if response.status_code == 200:\n",
    "        save_path=f\"data/yellow_tripdata_{year:04d}-{month:02d}.parquet\"\n",
    "        with open(save_path, \"wb\") as handle:\n",
    "            for data in tqdm(response.iter_content(),\n",
    "                             desc=f\"yellow_tripdata_{year:04d}-{month:02d}.parquet\",\n",
    "                             postfix=f\"save to {save_path}\",\n",
    "                             total=int(response.headers[\"Content-Length\"])\n",
    "            ):\n",
    "                handle.write(data)\n",
    "    else:\n",
    "        print(f\"Failed to download data for {year:04d}-{month:02d}\")"
   ]
  },
  {
   "cell_type": "code",
   "execution_count": 6,
   "metadata": {},
   "outputs": [],
   "source": [
    "def read_dataframe(filename: str) -> pd.DataFrame:\n",
    "    df = pl.scan_parquet(filename).with_columns(\n",
    "        duration = (pl.col(\"tpep_dropoff_datetime\") - pl.col(\"tpep_pickup_datetime\")).dt.total_seconds() / 60\n",
    "    ).filter(\n",
    "        (pl.col(\"duration\") > 0) & (pl.col(\"duration\") < 60)\n",
    "    ).with_columns(\n",
    "        pl.col('PULocationID').cast(pl.Utf8).alias('PULocationID'),\n",
    "        pl.col('DOLocationID').cast(pl.Utf8).alias('DOLocationID'),\n",
    "    ).select(\n",
    "        ['trip_distance', 'PULocationID', 'DOLocationID', 'duration']\n",
    "    )\n",
    "\n",
    "    return df.collect().to_pandas()\n",
    "\n",
    "def prepare_dictionaries(df: pd.DataFrame):\n",
    "    df['PU_DO'] = df['PULocationID'] + '_' + df['DOLocationID']\n",
    "    categorical = ['PU_DO']\n",
    "    numerical = ['trip_distance']\n",
    "    dicts = df[categorical + numerical].to_dict(orient='records')\n",
    "    return dicts"
   ]
  },
  {
   "cell_type": "code",
   "execution_count": 7,
   "metadata": {},
   "outputs": [],
   "source": [
    "df_train = read_dataframe('data/yellow_tripdata_2024-01.parquet')\n",
    "df_val = read_dataframe('data/yellow_tripdata_2024-02.parquet')\n",
    "\n",
    "target = 'duration'\n",
    "y_train = df_train[target].values\n",
    "y_val = df_val[target].values\n",
    "\n",
    "dict_train = prepare_dictionaries(df_train)\n",
    "dict_val = prepare_dictionaries(df_val)"
   ]
  },
  {
   "cell_type": "code",
   "execution_count": 9,
   "metadata": {},
   "outputs": [
    {
     "data": {
      "text/plain": [
       "2933099"
      ]
     },
     "execution_count": 9,
     "metadata": {},
     "output_type": "execute_result"
    }
   ],
   "source": [
    "len(dict_train)"
   ]
  },
  {
   "cell_type": "code",
   "execution_count": 10,
   "metadata": {},
   "outputs": [
    {
     "name": "stdout",
     "output_type": "stream",
     "text": [
      "{'max_depth': 20, 'n_estimators': 100, 'min_samples_leaf': 10, 'random_state': 42} 5.4584915452858285\n"
     ]
    }
   ],
   "source": [
    "from sklearn.pipeline import make_pipeline\n",
    "from sklearn.ensemble import RandomForestRegressor\n",
    "with mlflow.start_run():\n",
    "    params = dict(\n",
    "        max_depth=20,\n",
    "        n_estimators=100,\n",
    "        min_samples_leaf=10,\n",
    "        random_state=42\n",
    "    )\n",
    "    mlflow.log_params(params)\n",
    "\n",
    "    pipeline = make_pipeline(\n",
    "        DictVectorizer(),\n",
    "        RandomForestRegressor(**params, n_jobs=-1)\n",
    "    )\n",
    "\n",
    "    pipeline.fit(dict_train, y_train)\n",
    "    y_pred = pipeline.predict(dict_val)\n",
    "\n",
    "    rmse = root_mean_squared_error(y_pred, y_val)\n",
    "    print(params, rmse)\n",
    "    mlflow.log_metric(\"rmse\", rmse)\n",
    "\n",
    "    mlflow.sklearn.log_model(pipeline, \"model\")"
   ]
  },
  {
   "cell_type": "code",
   "execution_count": null,
   "metadata": {},
   "outputs": [],
   "source": []
  }
 ],
 "metadata": {
  "kernelspec": {
   "display_name": "06-best-practices-EezVnDst",
   "language": "python",
   "name": "python3"
  },
  "language_info": {
   "codemirror_mode": {
    "name": "ipython",
    "version": 3
   },
   "file_extension": ".py",
   "mimetype": "text/x-python",
   "name": "python",
   "nbconvert_exporter": "python",
   "pygments_lexer": "ipython3",
   "version": "3.11.9"
  }
 },
 "nbformat": 4,
 "nbformat_minor": 2
}
